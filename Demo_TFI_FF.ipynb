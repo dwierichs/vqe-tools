{
 "cells": [
  {
   "cell_type": "markdown",
   "metadata": {},
   "source": [
    "## Demo: Simulation of QAOA on large transverse field Ising chains via free fermions\n",
    "\n",
    "Here we show how to use the functionalities contained in tfi_ff.py\n",
    "They are based on the mapping of the TFI to free fermions as discussed in [our paper](https://arxiv.org/abs/2004.14666). This solution is not original work done by us but the implementation is. Prior references for the mapping - using slightly different notation/bases - are \n",
    "* [Wang, Hadfield, Jiang, Rieffel - 2017](https://arxiv.org/abs/1706.02998) - also published in PRA\n",
    "* [ E. Lieb, T. Schultz, and D. Mattis, Annals of Physics16,407  (1961)](https://www.math.ucdavis.edu/~bxn/lieb1961.pdf) - original work, not as close to the presentation here"
   ]
  },
  {
   "cell_type": "code",
   "execution_count": 1,
   "metadata": {},
   "outputs": [],
   "source": [
    "import numpy as np\n",
    "import tfi_ff"
   ]
  },
  {
   "cell_type": "markdown",
   "metadata": {},
   "source": [
    "## Energy evaluation \n",
    "For applications that require only the energy expectation value for given parameters, use the eval_energy method:\n",
    "Choose a number of qubits N and a number of QAOA blocks p, where the ansatz  \n",
    "\\begin{equation}|\\psi(\\vec{\\theta},\\vec{\\varphi})\\rangle = \\prod_{j=p}^{1} L_X(\\varphi_j)L_{ZZ}(\\theta_j)|\\bar{\\psi}\\rangle\\end{equation}\n",
    "will contain the ground state of the TFI model  \n",
    "\\begin{equation}H_{TFI} = -\\sum_{k=1}^{N} Z^{(k)}Z^{(k+1)}-t\\sum_{k=1}^{N}X^{(k)}\\end{equation}\n",
    "for $p\\geq \\left\\lfloor N/2\\right\\rfloor$"
   ]
  },
  {
   "cell_type": "code",
   "execution_count": 15,
   "metadata": {},
   "outputs": [
    {
     "name": "stdout",
     "output_type": "stream",
     "text": [
      "The energy of the state prepared with the angles\n",
      "[-0.412  1.22   1.376 -0.131 -1.504  1.536 -1.193 -0.477  1.287  0.137\n",
      " -1.01   1.481 -1.432  0.981  0.503 -0.259  0.863  0.524  1.293 -1.466]\n",
      "has the energy per site E=-0.3191 in the TFI on 20 spins with transverse field 1.2\n"
     ]
    }
   ],
   "source": [
    "# Fix number of qubits\n",
    "N = 20\n",
    "# Fix number of QAOA blocks. For $p\\geq N/2$\n",
    "p = 10\n",
    "# Choose a transverse field strength \n",
    "t = 1.2\n",
    "# Generate 2 random parameters per block (theta and phi). Periodicity of the ansatz in all parameters is pi,\n",
    "# here we choose to center the parameters around 0 but with i.i.d. distribution over the whole hypercube \n",
    "# [-pi/2, pi/2]^(2p)\n",
    "param = np.random.random(2*p)*np.pi-np.pi/2\n",
    "# Pass the parameters, the system size and the transverse field to the evaluation function\n",
    "E = tfi_ff.eval_energy(param, N, t)\n",
    "print(f'The energy of the state prepared with the angles\\n{np.round(param,3)}\\n'\n",
    "      f'has the energy per site E={E:.4f} in the TFI on {N} spins with transverse field {t}')"
   ]
  },
  {
   "cell_type": "markdown",
   "metadata": {},
   "source": [
    "Note that our QAOA ansatz always contains an even number of parameters by design. \n",
    "In case an odd number of parameters is given, the last parameter is discarded.\n",
    "\n",
    "One can skip the arguments $N$ and $t$ which are set to len(param) and 1 by default"
   ]
  },
  {
   "cell_type": "markdown",
   "metadata": {},
   "source": [
    "## Gradient and Fubini-Study matrix evaluation\n",
    "The gradient of the TFI energy can be computed via\n",
    "* the standard finite difference method\n",
    "* [the parameter shift rule](https://arxiv.org/abs/1811.11184)\n",
    "* matrix elements of the Hamiltonian between the QAOA state and the corresponding derivative state (see below)\n",
    "* [an ancilla qubit expectation value](https://arxiv.org/abs/1804.03023)\n",
    "\n",
    "Our code makes use of the third variant, which is feasible only because all computations decompose into two-dimensional matrix-vector operations and only a small bit of memory is needed to buffer several states. In particular the combination with the Fubini-Study matrix computation, which requires the derivative states as well, makes this a practical and fast choice.  \n",
    "The derivative of the energy expectation value\n",
    "\\begin{equation}E(\\vec{\\theta},\\vec{\\varphi})=\\langle\\psi(\\vec{\\theta},\\vec{\\varphi})|H_{TFI}|\\psi(\\vec{\\theta},\\vec{\\varphi})\\rangle\\end{equation}\n",
    "w.r.t $\\theta_j$ is given by\n",
    "\\begin{equation}\\partial_{\\theta_j}E(\\vec{\\theta},\\vec{\\varphi})=2\\mathfrak{Re}\\langle\\psi(\\vec{\\theta},\\vec{\\varphi})|H|\\partial_{\\theta_j}\\psi(\\vec{\\theta},\\vec{\\varphi})\\rangle\\end{equation}\n",
    "which in the free fermion picture with $r=\\lfloor N/2\\rfloor$ fermions translates into \n",
    "\\begin{equation}\n",
    "\\partial_{\\theta_j}E(\\vec{\\theta},\\vec{\\varphi})=2\\mathfrak{Re}\n",
    "\\langle 0|^{\\otimes r}\n",
    "\\prod_{k=1}^p\\left(\\bigoplus_{q=1}^r R_{ax}^{\\dagger(q)}(\\theta_j)\\bigoplus_{q=1}^r R_{Z}^{\\dagger(q)}(\\varphi_j)\\right)\\bigoplus_{q'=1}^r H^{(q')}\n",
    "\\prod_{k=N}^j\\left(\\bigoplus_{q=1}^r R_{Z}^{(q)}(\\varphi_k)\\bigoplus_{q=1}^r R_{ax}^{(q)}(\\theta_k)\\right)\\bigoplus_{q''=1}^r -i W^{(q'')}\n",
    "\\prod_{k'=j-1}^{1}\\left(\\bigoplus_{q=1}^r R_{Z}^{(q)}(\\varphi_{k'})\\bigoplus_{q=1}^r R_{ax}^{(q)}(\\theta_{k'})\\right)|0\\rangle^{\\otimes r}\n",
    "\\end{equation}\n",
    "\n",
    "with $W^{(q)}=\\cos \\alpha_q Z + \\sin\\alpha_q Y$ and some fermion-specific angles $\\alpha_q$. This large expression simplifies a lot if we decompose it into the summands of the direct sum, i.e. we perform all operations separately per fermion, and observe that only terms with $q'=q''$ can contribute to the real part because both $H^{(q')}$ and $W^{(q'')}$ are Hermitian. This results in\n",
    "\\begin{equation}\n",
    "\\partial_{\\theta_j}E(\\vec{\\theta},\\vec{\\varphi})=\\sum_{q=1}^r 2\\mathfrak{Re}\n",
    "\\langle \\psi^{(q)}| H^{(q)} |\\psi^{(q)}\\rangle \n",
    "\\end{equation}\n"
   ]
  },
  {
   "cell_type": "code",
   "execution_count": 20,
   "metadata": {},
   "outputs": [
    {
     "name": "stdout",
     "output_type": "stream",
     "text": [
      "The energy of the state prepared with the angles\n",
      "[-0.92   0.785 -0.083  1.035  0.735 -1.18  -0.529  1.566  1.353  1.524]\n",
      "has the energy per site E=-0.5278 in the TFI on 10 spins with transverse field 1.2.\n",
      "\n",
      "The gradient is [-0.008  0.091 -0.773  0.033 -0.459 -0.992 -0.835 -1.231  0.004  0.456]\n",
      "and the Fubini-Study matrix reads\n",
      "[[ 2.5   -0.     0.794 -0.273 -0.61  -1.13   1.693 -1.799 -1.105  0.836]\n",
      " [-0.     3.325  0.121  3.294 -0.307  1.435 -1.055 -0.433  1.406  0.445]\n",
      " [ 0.794  0.121  1.839  0.172  0.92   0.731  0.214  0.687 -0.568 -0.298]\n",
      " [-0.273  3.294  0.172  3.317  0.019  1.619 -1.219 -0.102  1.633  0.351]\n",
      " [-0.61  -0.307  0.92   0.019  3.336  0.682  0.098  1.744  2.085  0.199]\n",
      " [-1.13   1.435  0.731  1.619  0.682  2.441 -0.781  2.335  0.635 -0.022]\n",
      " [ 1.693 -1.055  0.214 -1.219  0.098 -0.781  3.326 -0.425  0.086  0.677]\n",
      " [-1.799 -0.433  0.687 -0.102  1.744  2.335 -0.425  3.945  0.345  0.53 ]\n",
      " [-1.105  1.406 -0.568  1.633  2.085  0.635  0.086  0.345  3.981 -0.231]\n",
      " [ 0.836  0.445 -0.298  0.351  0.199 -0.022  0.677  0.53  -0.231  3.763]]\n"
     ]
    }
   ],
   "source": [
    "# As before specify number of qubits N, number of blocks p and transverse field\n",
    "N = 10; p=5; t=1.2;\n",
    "# Generate random parameters as before \n",
    "param = np.random.random(2*p)*np.pi-np.pi/2\n",
    "# The entire computation is obscured in one method here because the computation of the gradient and F \n",
    "# are more efficient when performed together.\n",
    "E, grad, F = tfi_ff.eval_all(param, N, t)\n",
    "print(f'The energy of the state prepared with the angles\\n{np.round(param,3)}\\n'\n",
    "      f'has the energy per site E={E:.4f} in the TFI on {N} spins with transverse field {t}.\\n\\n'\n",
    "      f'The gradient is {np.round(grad,3)}\\n'\n",
    "      f'and the Fubini-Study matrix reads\\n{np.round(F,3)}')"
   ]
  },
  {
   "cell_type": "code",
   "execution_count": 26,
   "metadata": {},
   "outputs": [
    {
     "name": "stdout",
     "output_type": "stream",
     "text": [
      "For N=10 qubits and p= 5 QAOA blocks the computation took 0.00 seconds.\n",
      "For N=20 qubits and p=10 QAOA blocks the computation took 0.03 seconds.\n",
      "For N=30 qubits and p=15 QAOA blocks the computation took 0.08 seconds.\n",
      "For N=40 qubits and p=20 QAOA blocks the computation took 0.23 seconds.\n",
      "For N=50 qubits and p=25 QAOA blocks the computation took 0.51 seconds.\n",
      "For N=60 qubits and p=30 QAOA blocks the computation took 1.05 seconds.\n"
     ]
    }
   ],
   "source": [
    "# We restricted ourselves to 10 qubits here for readability of the output, but regarding the computation time, \n",
    "# there are not strong constraints as the algorithm scales polynomially in the system size and the number of \n",
    "# parameters, with very very small prefactors:\n",
    "import time\n",
    "\n",
    "# Choose some system sizes and fix p=N/2\n",
    "for N in 10*np.arange(1,7):\n",
    "    start = time.process_time()\n",
    "    E, g, F = tfi_ff.eval_all(np.random.random(N)*np.pi-np.pi/2)\n",
    "    end = time.process_time()\n",
    "    print(f'For N={N} qubits and p={N//2:2} QAOA blocks the computation took {end-start:.2f} seconds.')"
   ]
  },
  {
   "cell_type": "code",
   "execution_count": null,
   "metadata": {},
   "outputs": [],
   "source": []
  }
 ],
 "metadata": {
  "kernelspec": {
   "display_name": "Python 3",
   "language": "python",
   "name": "python3"
  },
  "language_info": {
   "codemirror_mode": {
    "name": "ipython",
    "version": 3
   },
   "file_extension": ".py",
   "mimetype": "text/x-python",
   "name": "python",
   "nbconvert_exporter": "python",
   "pygments_lexer": "ipython3",
   "version": "3.6.9"
  }
 },
 "nbformat": 4,
 "nbformat_minor": 4
}
